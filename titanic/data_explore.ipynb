{
 "metadata": {
  "name": ""
 },
 "nbformat": 3,
 "nbformat_minor": 0,
 "worksheets": [
  {
   "cells": [
    {
     "cell_type": "code",
     "collapsed": false,
     "input": [
      "import os\n",
      "import numpy as np\n",
      "import pandas as pd"
     ],
     "language": "python",
     "metadata": {},
     "outputs": [],
     "prompt_number": 1
    },
    {
     "cell_type": "code",
     "collapsed": false,
     "input": [
      "df = pd.read_csv('train.csv',header=0)"
     ],
     "language": "python",
     "metadata": {},
     "outputs": [],
     "prompt_number": 2
    },
    {
     "cell_type": "code",
     "collapsed": false,
     "input": [
      "df['Sex_flag'] = df['Sex'].map( {'female': 0, 'male': 1} ).astype(int)"
     ],
     "language": "python",
     "metadata": {},
     "outputs": [],
     "prompt_number": 3
    },
    {
     "cell_type": "code",
     "collapsed": false,
     "input": [
      "df.info()"
     ],
     "language": "python",
     "metadata": {},
     "outputs": [
      {
       "output_type": "stream",
       "stream": "stdout",
       "text": [
        "<class 'pandas.core.frame.DataFrame'>\n",
        "Int64Index: 891 entries, 0 to 890\n",
        "Data columns (total 13 columns):\n",
        "PassengerId    891 non-null int64\n",
        "Survived       891 non-null int64\n",
        "Pclass         891 non-null int64\n",
        "Name           891 non-null object\n",
        "Sex            891 non-null object\n",
        "Age            714 non-null float64\n",
        "SibSp          891 non-null int64\n",
        "Parch          891 non-null int64\n",
        "Ticket         891 non-null object\n",
        "Fare           891 non-null float64\n",
        "Cabin          204 non-null object\n",
        "Embarked       889 non-null object\n",
        "Sex_flag       891 non-null int64\n",
        "dtypes: float64(2), int64(6), object(5)\n",
        "memory usage: 97.5+ KB\n"
       ]
      }
     ],
     "prompt_number": 4
    },
    {
     "cell_type": "code",
     "collapsed": false,
     "input": [
      "df['Title'] = df.Name.map(lambda x: x.split(',')[1].split('.')[0].strip())"
     ],
     "language": "python",
     "metadata": {},
     "outputs": [],
     "prompt_number": 5
    },
    {
     "cell_type": "code",
     "collapsed": false,
     "input": [
      "for t in df.Title.unique():\n",
      "    print t\n",
      "    print 'No. ' + str(df.Title[df.Title==t].size)\n",
      "    print 'Mean Age: ',\n",
      "    print df.Age[df.Title==t].mean()"
     ],
     "language": "python",
     "metadata": {},
     "outputs": [
      {
       "output_type": "stream",
       "stream": "stdout",
       "text": [
        "Mr\n",
        "No. 517\n",
        "Mean Age:  32.3680904523\n",
        "Mrs\n",
        "No. 125\n",
        "Mean Age:  35.8981481481\n",
        "Miss\n",
        "No. 182\n",
        "Mean Age:  21.7739726027\n",
        "Master\n",
        "No. 40\n",
        "Mean Age:  4.57416666667\n",
        "Don\n",
        "No. 1\n",
        "Mean Age:  40.0\n",
        "Rev\n",
        "No. 6\n",
        "Mean Age:  43.1666666667\n",
        "Dr\n",
        "No. 7\n",
        "Mean Age:  42.0\n",
        "Mme\n",
        "No. 1\n",
        "Mean Age:  24.0\n",
        "Ms\n",
        "No. 1\n",
        "Mean Age:  28.0\n",
        "Major\n",
        "No. 2\n",
        "Mean Age:  48.5\n",
        "Lady\n",
        "No. 1\n",
        "Mean Age:  48.0\n",
        "Sir\n",
        "No. 1\n",
        "Mean Age:  49.0\n",
        "Mlle\n",
        "No. 2\n",
        "Mean Age:  24.0\n",
        "Col\n",
        "No. 2\n",
        "Mean Age:  58.0\n",
        "Capt\n",
        "No. 1\n",
        "Mean Age:  70.0\n",
        "the Countess\n",
        "No. 1\n",
        "Mean Age:  33.0\n",
        "Jonkheer\n",
        "No. 1"
       ]
      },
      {
       "output_type": "stream",
       "stream": "stdout",
       "text": [
        "\n",
        "Mean Age:  38.0\n"
       ]
      }
     ],
     "prompt_number": 6
    },
    {
     "cell_type": "code",
     "collapsed": false,
     "input": [
      "df.Age[df.Age.isnull()].size"
     ],
     "language": "python",
     "metadata": {},
     "outputs": [
      {
       "metadata": {},
       "output_type": "pyout",
       "prompt_number": 7,
       "text": [
        "177"
       ]
      }
     ],
     "prompt_number": 7
    },
    {
     "cell_type": "code",
     "collapsed": false,
     "input": [
      "df.Title[df.Age.isnull()].unique()"
     ],
     "language": "python",
     "metadata": {},
     "outputs": [
      {
       "metadata": {},
       "output_type": "pyout",
       "prompt_number": 8,
       "text": [
        "array(['Mr', 'Mrs', 'Miss', 'Master', 'Dr'], dtype=object)"
       ]
      }
     ],
     "prompt_number": 8
    },
    {
     "cell_type": "code",
     "collapsed": false,
     "input": [
      "for t in df.Title[df.Age.isnull()].unique():\n",
      "    print t\n",
      "    print df.Pclass[(df.Title==t) & (df.Age.notnull())].size"
     ],
     "language": "python",
     "metadata": {},
     "outputs": [
      {
       "output_type": "stream",
       "stream": "stdout",
       "text": [
        "Mr\n",
        "398\n",
        "Mrs\n",
        "108\n",
        "Miss\n",
        "146\n",
        "Master\n",
        "36\n",
        "Dr\n",
        "6\n"
       ]
      }
     ],
     "prompt_number": 9
    },
    {
     "cell_type": "code",
     "collapsed": false,
     "input": [
      "for t in df.Title[df.Age.isnull()].unique():\n",
      "    print t\n",
      "    print 'Pclass',\n",
      "    print df.Pclass[(df.Title==t) & (df.Age.notnull())].unique()\n",
      "    print 'Sex',\n",
      "    print df.Sex_flag[(df.Title==t) & (df.Age.notnull())].unique()"
     ],
     "language": "python",
     "metadata": {},
     "outputs": [
      {
       "output_type": "stream",
       "stream": "stdout",
       "text": [
        "Mr\n",
        "Pclass [3 1 2]\n",
        "Sex [1]\n",
        "Mrs\n",
        "Pclass [1 3 2]\n",
        "Sex [0]\n",
        "Miss\n",
        "Pclass [3 1 2]\n",
        "Sex [0]\n",
        "Master\n",
        "Pclass [3 2 1]\n",
        "Sex [1]\n",
        "Dr\n",
        "Pclass [1 2]\n",
        "Sex [1 0]\n"
       ]
      }
     ],
     "prompt_number": 10
    },
    {
     "cell_type": "code",
     "collapsed": false,
     "input": [
      "for c in [1, 2, 3]:\n",
      "    print 'Pclass %s'%(c)\n",
      "    for s in [0, 1]:\n",
      "        print 'Gender %s'%(s)\n",
      "        print df.Age[(df.Title=='Dr') & (df.Sex_flag==s) & (df.Pclass==c)].size\n",
      "        print df.Age[(df.Title=='Dr') & (df.Sex_flag==s) & (df.Pclass==c)].mean()\n",
      "        "
     ],
     "language": "python",
     "metadata": {},
     "outputs": [
      {
       "output_type": "stream",
       "stream": "stdout",
       "text": [
        "Pclass 1\n",
        "Gender 0\n",
        "1\n",
        "49.0\n",
        "Gender 1\n",
        "4\n",
        "42.0\n",
        "Pclass 2\n",
        "Gender 0\n",
        "0\n",
        "nan\n",
        "Gender 1\n",
        "2\n",
        "38.5\n",
        "Pclass 3\n",
        "Gender 0\n",
        "0\n",
        "nan\n",
        "Gender 1\n",
        "0\n",
        "nan"
       ]
      },
      {
       "output_type": "stream",
       "stream": "stdout",
       "text": [
        "\n"
       ]
      }
     ],
     "prompt_number": 11
    },
    {
     "cell_type": "code",
     "collapsed": false,
     "input": [
      "mean_age = {}\n",
      "for t in df.Title[df.Age.isnull()].unique():\n",
      "    mean_age[t] = {}\n",
      "    for c in [1, 2, 3]:\n",
      "        mean_age[t][c] = df.Age[(df.Age.notnull()) & (df.Title==t) & (df.Pclass==c)].mean()"
     ],
     "language": "python",
     "metadata": {},
     "outputs": [],
     "prompt_number": 12
    },
    {
     "cell_type": "code",
     "collapsed": false,
     "input": [
      "mean_age"
     ],
     "language": "python",
     "metadata": {},
     "outputs": [
      {
       "metadata": {},
       "output_type": "pyout",
       "prompt_number": 13,
       "text": [
        "{'Dr': {1: 43.75, 2: 38.5, 3: nan},\n",
        " 'Master': {1: 5.3066666666666666,\n",
        "  2: 2.2588888888888885,\n",
        "  3: 5.350833333333334},\n",
        " 'Miss': {1: 30.0, 2: 22.390625, 3: 16.123188405797102},\n",
        " 'Mr': {1: 41.580459770114942, 2: 32.768292682926827, 3: 28.724890829694324},\n",
        " 'Mrs': {1: 40.882352941176471, 2: 33.68292682926829, 3: 33.515151515151516}}"
       ]
      }
     ],
     "prompt_number": 13
    },
    {
     "cell_type": "code",
     "collapsed": false,
     "input": [
      "df['Age_noNaN'] = df.Age\n",
      "for t in df.Title[df.Age.isnull()].unique():\n",
      "    for c in [1, 2, 3]:\n",
      "        df.loc[(df.Title==t) & (df.Age.isnull()) & (df.Pclass==c), 'Age_noNaN'] = mean_age[t][c]"
     ],
     "language": "python",
     "metadata": {},
     "outputs": [],
     "prompt_number": 14
    },
    {
     "cell_type": "code",
     "collapsed": false,
     "input": [
      "df.info()"
     ],
     "language": "python",
     "metadata": {},
     "outputs": [
      {
       "output_type": "stream",
       "stream": "stdout",
       "text": [
        "<class 'pandas.core.frame.DataFrame'>\n",
        "Int64Index: 891 entries, 0 to 890\n",
        "Data columns (total 15 columns):\n",
        "PassengerId    891 non-null int64\n",
        "Survived       891 non-null int64\n",
        "Pclass         891 non-null int64\n",
        "Name           891 non-null object\n",
        "Sex            891 non-null object\n",
        "Age            714 non-null float64\n",
        "SibSp          891 non-null int64\n",
        "Parch          891 non-null int64\n",
        "Ticket         891 non-null object\n",
        "Fare           891 non-null float64\n",
        "Cabin          204 non-null object\n",
        "Embarked       889 non-null object\n",
        "Sex_flag       891 non-null int64\n",
        "Title          891 non-null object\n",
        "Age_noNaN      891 non-null float64\n",
        "dtypes: float64(3), int64(6), object(6)\n",
        "memory usage: 111.4+ KB\n"
       ]
      }
     ],
     "prompt_number": 15
    },
    {
     "cell_type": "code",
     "collapsed": false,
     "input": [
      "df.info()"
     ],
     "language": "python",
     "metadata": {},
     "outputs": [
      {
       "output_type": "stream",
       "stream": "stdout",
       "text": [
        "<class 'pandas.core.frame.DataFrame'>\n",
        "Int64Index: 891 entries, 0 to 890\n",
        "Data columns (total 15 columns):\n",
        "PassengerId    891 non-null int64\n",
        "Survived       891 non-null int64\n",
        "Pclass         891 non-null int64\n",
        "Name           891 non-null object\n",
        "Sex            891 non-null object\n",
        "Age            714 non-null float64\n",
        "SibSp          891 non-null int64\n",
        "Parch          891 non-null int64\n",
        "Ticket         891 non-null object\n",
        "Fare           891 non-null float64\n",
        "Cabin          204 non-null object\n",
        "Embarked       889 non-null object\n",
        "Sex_flag       891 non-null int64\n",
        "Title          891 non-null object\n",
        "Age_noNaN      891 non-null float64\n",
        "dtypes: float64(3), int64(6), object(6)\n",
        "memory usage: 111.4+ KB\n"
       ]
      }
     ],
     "prompt_number": 16
    },
    {
     "cell_type": "code",
     "collapsed": false,
     "input": [
      "test_df = pd.read_csv('test.csv', header=0)"
     ],
     "language": "python",
     "metadata": {},
     "outputs": [],
     "prompt_number": 17
    },
    {
     "cell_type": "code",
     "collapsed": false,
     "input": [
      "test_df['Title'] = test_df.Name.map(lambda x: x.split(',')[1].split('.')[0].strip())"
     ],
     "language": "python",
     "metadata": {},
     "outputs": [],
     "prompt_number": 18
    },
    {
     "cell_type": "code",
     "collapsed": false,
     "input": [
      "test_df.Title.unique()"
     ],
     "language": "python",
     "metadata": {},
     "outputs": [
      {
       "metadata": {},
       "output_type": "pyout",
       "prompt_number": 19,
       "text": [
        "array(['Mr', 'Mrs', 'Miss', 'Master', 'Ms', 'Col', 'Rev', 'Dr', 'Dona'], dtype=object)"
       ]
      }
     ],
     "prompt_number": 19
    },
    {
     "cell_type": "code",
     "collapsed": false,
     "input": [
      "test_df.info()"
     ],
     "language": "python",
     "metadata": {},
     "outputs": [
      {
       "output_type": "stream",
       "stream": "stdout",
       "text": [
        "<class 'pandas.core.frame.DataFrame'>\n",
        "Int64Index: 418 entries, 0 to 417\n",
        "Data columns (total 12 columns):\n",
        "PassengerId    418 non-null int64\n",
        "Pclass         418 non-null int64\n",
        "Name           418 non-null object\n",
        "Sex            418 non-null object\n",
        "Age            332 non-null float64\n",
        "SibSp          418 non-null int64\n",
        "Parch          418 non-null int64\n",
        "Ticket         418 non-null object\n",
        "Fare           417 non-null float64\n",
        "Cabin          91 non-null object\n",
        "Embarked       418 non-null object\n",
        "Title          418 non-null object\n",
        "dtypes: float64(2), int64(4), object(6)\n",
        "memory usage: 42.5+ KB\n"
       ]
      }
     ],
     "prompt_number": 20
    },
    {
     "cell_type": "code",
     "collapsed": false,
     "input": [
      "test_df.Title[test_df.Age.isnull()].unique()"
     ],
     "language": "python",
     "metadata": {},
     "outputs": [
      {
       "metadata": {},
       "output_type": "pyout",
       "prompt_number": 21,
       "text": [
        "array(['Mr', 'Mrs', 'Miss', 'Ms', 'Master'], dtype=object)"
       ]
      }
     ],
     "prompt_number": 21
    },
    {
     "cell_type": "code",
     "collapsed": false,
     "input": [
      "test_df.Title[(test_df.Age.isnull()) & (test_df.Title=='Ms')]"
     ],
     "language": "python",
     "metadata": {},
     "outputs": [
      {
       "metadata": {},
       "output_type": "pyout",
       "prompt_number": 22,
       "text": [
        "88    Ms\n",
        "Name: Title, dtype: object"
       ]
      }
     ],
     "prompt_number": 22
    },
    {
     "cell_type": "code",
     "collapsed": false,
     "input": [
      "for e in df.Embarked.unique():\n",
      "    for c in df.Pclass.unique():\n",
      "        print e,\n",
      "        print c\n",
      "        print df.Fare[(df.Embarked==e) & (df.Pclass==c)].mean()"
     ],
     "language": "python",
     "metadata": {},
     "outputs": [
      {
       "output_type": "stream",
       "stream": "stdout",
       "text": [
        "S 3\n",
        "14.6440830028\n",
        "S 1\n",
        "70.3648622047\n",
        "S 2\n",
        "20.3274390244\n",
        "C 3\n",
        "11.2140833333\n",
        "C 1\n",
        "104.718529412\n",
        "C 2\n",
        "25.3583352941\n",
        "Q 3\n",
        "11.1833930556\n",
        "Q 1\n",
        "90.0\n",
        "Q 2\n",
        "12.35\n",
        "nan 3\n",
        "nan\n",
        "nan 1\n",
        "nan\n",
        "nan 2\n",
        "nan\n"
       ]
      }
     ],
     "prompt_number": 23
    },
    {
     "cell_type": "code",
     "collapsed": false,
     "input": [
      "df.info()"
     ],
     "language": "python",
     "metadata": {},
     "outputs": [
      {
       "output_type": "stream",
       "stream": "stdout",
       "text": [
        "<class 'pandas.core.frame.DataFrame'>\n",
        "Int64Index: 891 entries, 0 to 890\n",
        "Data columns (total 15 columns):\n",
        "PassengerId    891 non-null int64\n",
        "Survived       891 non-null int64\n",
        "Pclass         891 non-null int64\n",
        "Name           891 non-null object\n",
        "Sex            891 non-null object\n",
        "Age            714 non-null float64\n",
        "SibSp          891 non-null int64\n",
        "Parch          891 non-null int64\n",
        "Ticket         891 non-null object\n",
        "Fare           891 non-null float64\n",
        "Cabin          204 non-null object\n",
        "Embarked       889 non-null object\n",
        "Sex_flag       891 non-null int64\n",
        "Title          891 non-null object\n",
        "Age_noNaN      891 non-null float64\n",
        "dtypes: float64(3), int64(6), object(6)\n",
        "memory usage: 111.4+ KB\n"
       ]
      }
     ],
     "prompt_number": 24
    },
    {
     "cell_type": "code",
     "collapsed": false,
     "input": [
      "for e in df.Embarked.unique():\n",
      "    for c in df.Pclass.unique():\n",
      "        print e,\n",
      "        print c\n",
      "        print df.Fare[(df.Embarked==e) & (df.Pclass==c)].median()"
     ],
     "language": "python",
     "metadata": {},
     "outputs": [
      {
       "output_type": "stream",
       "stream": "stdout",
       "text": [
        "S 3\n",
        "8.05\n",
        "S 1\n",
        "52.0\n",
        "S 2\n",
        "13.5\n",
        "C 3\n",
        "7.8958\n",
        "C 1\n",
        "78.2667\n",
        "C 2\n",
        "24.0\n",
        "Q 3\n",
        "7.75\n",
        "Q 1\n",
        "90.0\n",
        "Q 2\n",
        "12.35\n",
        "nan 3\n",
        "nan\n",
        "nan 1\n",
        "nan\n",
        "nan 2\n",
        "nan\n"
       ]
      }
     ],
     "prompt_number": 25
    },
    {
     "cell_type": "code",
     "collapsed": false,
     "input": [
      "df.Fare[df.Fare==0].size"
     ],
     "language": "python",
     "metadata": {},
     "outputs": [
      {
       "metadata": {},
       "output_type": "pyout",
       "prompt_number": 26,
       "text": [
        "15"
       ]
      }
     ],
     "prompt_number": 26
    },
    {
     "cell_type": "code",
     "collapsed": false,
     "input": [
      "df.describe()"
     ],
     "language": "python",
     "metadata": {},
     "outputs": [
      {
       "html": [
        "<div style=\"max-height:1000px;max-width:1500px;overflow:auto;\">\n",
        "<table border=\"1\" class=\"dataframe\">\n",
        "  <thead>\n",
        "    <tr style=\"text-align: right;\">\n",
        "      <th></th>\n",
        "      <th>PassengerId</th>\n",
        "      <th>Survived</th>\n",
        "      <th>Pclass</th>\n",
        "      <th>Age</th>\n",
        "      <th>SibSp</th>\n",
        "      <th>Parch</th>\n",
        "      <th>Fare</th>\n",
        "      <th>Sex_flag</th>\n",
        "      <th>Age_noNaN</th>\n",
        "    </tr>\n",
        "  </thead>\n",
        "  <tbody>\n",
        "    <tr>\n",
        "      <th>count</th>\n",
        "      <td> 891.000000</td>\n",
        "      <td> 891.000000</td>\n",
        "      <td> 891.000000</td>\n",
        "      <td> 714.000000</td>\n",
        "      <td> 891.000000</td>\n",
        "      <td> 891.000000</td>\n",
        "      <td> 891.000000</td>\n",
        "      <td> 891.000000</td>\n",
        "      <td> 891.000000</td>\n",
        "    </tr>\n",
        "    <tr>\n",
        "      <th>mean</th>\n",
        "      <td> 446.000000</td>\n",
        "      <td>   0.383838</td>\n",
        "      <td>   2.308642</td>\n",
        "      <td>  29.699118</td>\n",
        "      <td>   0.523008</td>\n",
        "      <td>   0.381594</td>\n",
        "      <td>  32.204208</td>\n",
        "      <td>   0.647587</td>\n",
        "      <td>  29.424948</td>\n",
        "    </tr>\n",
        "    <tr>\n",
        "      <th>std</th>\n",
        "      <td> 257.353842</td>\n",
        "      <td>   0.486592</td>\n",
        "      <td>   0.836071</td>\n",
        "      <td>  14.526497</td>\n",
        "      <td>   1.102743</td>\n",
        "      <td>   0.806057</td>\n",
        "      <td>  49.693429</td>\n",
        "      <td>   0.477990</td>\n",
        "      <td>  13.544457</td>\n",
        "    </tr>\n",
        "    <tr>\n",
        "      <th>min</th>\n",
        "      <td>   1.000000</td>\n",
        "      <td>   0.000000</td>\n",
        "      <td>   1.000000</td>\n",
        "      <td>   0.420000</td>\n",
        "      <td>   0.000000</td>\n",
        "      <td>   0.000000</td>\n",
        "      <td>   0.000000</td>\n",
        "      <td>   0.000000</td>\n",
        "      <td>   0.420000</td>\n",
        "    </tr>\n",
        "    <tr>\n",
        "      <th>25%</th>\n",
        "      <td> 223.500000</td>\n",
        "      <td>   0.000000</td>\n",
        "      <td>   2.000000</td>\n",
        "      <td>  20.125000</td>\n",
        "      <td>   0.000000</td>\n",
        "      <td>   0.000000</td>\n",
        "      <td>   7.910400</td>\n",
        "      <td>   0.000000</td>\n",
        "      <td>  21.000000</td>\n",
        "    </tr>\n",
        "    <tr>\n",
        "      <th>50%</th>\n",
        "      <td> 446.000000</td>\n",
        "      <td>   0.000000</td>\n",
        "      <td>   3.000000</td>\n",
        "      <td>  28.000000</td>\n",
        "      <td>   0.000000</td>\n",
        "      <td>   0.000000</td>\n",
        "      <td>  14.454200</td>\n",
        "      <td>   1.000000</td>\n",
        "      <td>  28.724891</td>\n",
        "    </tr>\n",
        "    <tr>\n",
        "      <th>75%</th>\n",
        "      <td> 668.500000</td>\n",
        "      <td>   1.000000</td>\n",
        "      <td>   3.000000</td>\n",
        "      <td>  38.000000</td>\n",
        "      <td>   1.000000</td>\n",
        "      <td>   0.000000</td>\n",
        "      <td>  31.000000</td>\n",
        "      <td>   1.000000</td>\n",
        "      <td>  36.750000</td>\n",
        "    </tr>\n",
        "    <tr>\n",
        "      <th>max</th>\n",
        "      <td> 891.000000</td>\n",
        "      <td>   1.000000</td>\n",
        "      <td>   3.000000</td>\n",
        "      <td>  80.000000</td>\n",
        "      <td>   8.000000</td>\n",
        "      <td>   6.000000</td>\n",
        "      <td> 512.329200</td>\n",
        "      <td>   1.000000</td>\n",
        "      <td>  80.000000</td>\n",
        "    </tr>\n",
        "  </tbody>\n",
        "</table>\n",
        "</div>"
       ],
       "metadata": {},
       "output_type": "pyout",
       "prompt_number": 27,
       "text": [
        "       PassengerId    Survived      Pclass         Age       SibSp  \\\n",
        "count   891.000000  891.000000  891.000000  714.000000  891.000000   \n",
        "mean    446.000000    0.383838    2.308642   29.699118    0.523008   \n",
        "std     257.353842    0.486592    0.836071   14.526497    1.102743   \n",
        "min       1.000000    0.000000    1.000000    0.420000    0.000000   \n",
        "25%     223.500000    0.000000    2.000000   20.125000    0.000000   \n",
        "50%     446.000000    0.000000    3.000000   28.000000    0.000000   \n",
        "75%     668.500000    1.000000    3.000000   38.000000    1.000000   \n",
        "max     891.000000    1.000000    3.000000   80.000000    8.000000   \n",
        "\n",
        "            Parch        Fare    Sex_flag   Age_noNaN  \n",
        "count  891.000000  891.000000  891.000000  891.000000  \n",
        "mean     0.381594   32.204208    0.647587   29.424948  \n",
        "std      0.806057   49.693429    0.477990   13.544457  \n",
        "min      0.000000    0.000000    0.000000    0.420000  \n",
        "25%      0.000000    7.910400    0.000000   21.000000  \n",
        "50%      0.000000   14.454200    1.000000   28.724891  \n",
        "75%      0.000000   31.000000    1.000000   36.750000  \n",
        "max      6.000000  512.329200    1.000000   80.000000  "
       ]
      }
     ],
     "prompt_number": 27
    },
    {
     "cell_type": "code",
     "collapsed": false,
     "input": [
      "test_df.describe()"
     ],
     "language": "python",
     "metadata": {},
     "outputs": [
      {
       "html": [
        "<div style=\"max-height:1000px;max-width:1500px;overflow:auto;\">\n",
        "<table border=\"1\" class=\"dataframe\">\n",
        "  <thead>\n",
        "    <tr style=\"text-align: right;\">\n",
        "      <th></th>\n",
        "      <th>PassengerId</th>\n",
        "      <th>Pclass</th>\n",
        "      <th>Age</th>\n",
        "      <th>SibSp</th>\n",
        "      <th>Parch</th>\n",
        "      <th>Fare</th>\n",
        "    </tr>\n",
        "  </thead>\n",
        "  <tbody>\n",
        "    <tr>\n",
        "      <th>count</th>\n",
        "      <td>  418.000000</td>\n",
        "      <td> 418.000000</td>\n",
        "      <td> 332.000000</td>\n",
        "      <td> 418.000000</td>\n",
        "      <td> 418.000000</td>\n",
        "      <td> 417.000000</td>\n",
        "    </tr>\n",
        "    <tr>\n",
        "      <th>mean</th>\n",
        "      <td> 1100.500000</td>\n",
        "      <td>   2.265550</td>\n",
        "      <td>  30.272590</td>\n",
        "      <td>   0.447368</td>\n",
        "      <td>   0.392344</td>\n",
        "      <td>  35.627188</td>\n",
        "    </tr>\n",
        "    <tr>\n",
        "      <th>std</th>\n",
        "      <td>  120.810458</td>\n",
        "      <td>   0.841838</td>\n",
        "      <td>  14.181209</td>\n",
        "      <td>   0.896760</td>\n",
        "      <td>   0.981429</td>\n",
        "      <td>  55.907576</td>\n",
        "    </tr>\n",
        "    <tr>\n",
        "      <th>min</th>\n",
        "      <td>  892.000000</td>\n",
        "      <td>   1.000000</td>\n",
        "      <td>   0.170000</td>\n",
        "      <td>   0.000000</td>\n",
        "      <td>   0.000000</td>\n",
        "      <td>   0.000000</td>\n",
        "    </tr>\n",
        "    <tr>\n",
        "      <th>25%</th>\n",
        "      <td>  996.250000</td>\n",
        "      <td>   1.000000</td>\n",
        "      <td>  21.000000</td>\n",
        "      <td>   0.000000</td>\n",
        "      <td>   0.000000</td>\n",
        "      <td>   7.895800</td>\n",
        "    </tr>\n",
        "    <tr>\n",
        "      <th>50%</th>\n",
        "      <td> 1100.500000</td>\n",
        "      <td>   3.000000</td>\n",
        "      <td>  27.000000</td>\n",
        "      <td>   0.000000</td>\n",
        "      <td>   0.000000</td>\n",
        "      <td>  14.454200</td>\n",
        "    </tr>\n",
        "    <tr>\n",
        "      <th>75%</th>\n",
        "      <td> 1204.750000</td>\n",
        "      <td>   3.000000</td>\n",
        "      <td>  39.000000</td>\n",
        "      <td>   1.000000</td>\n",
        "      <td>   0.000000</td>\n",
        "      <td>  31.500000</td>\n",
        "    </tr>\n",
        "    <tr>\n",
        "      <th>max</th>\n",
        "      <td> 1309.000000</td>\n",
        "      <td>   3.000000</td>\n",
        "      <td>  76.000000</td>\n",
        "      <td>   8.000000</td>\n",
        "      <td>   9.000000</td>\n",
        "      <td> 512.329200</td>\n",
        "    </tr>\n",
        "  </tbody>\n",
        "</table>\n",
        "</div>"
       ],
       "metadata": {},
       "output_type": "pyout",
       "prompt_number": 28,
       "text": [
        "       PassengerId      Pclass         Age       SibSp       Parch        Fare\n",
        "count   418.000000  418.000000  332.000000  418.000000  418.000000  417.000000\n",
        "mean   1100.500000    2.265550   30.272590    0.447368    0.392344   35.627188\n",
        "std     120.810458    0.841838   14.181209    0.896760    0.981429   55.907576\n",
        "min     892.000000    1.000000    0.170000    0.000000    0.000000    0.000000\n",
        "25%     996.250000    1.000000   21.000000    0.000000    0.000000    7.895800\n",
        "50%    1100.500000    3.000000   27.000000    0.000000    0.000000   14.454200\n",
        "75%    1204.750000    3.000000   39.000000    1.000000    0.000000   31.500000\n",
        "max    1309.000000    3.000000   76.000000    8.000000    9.000000  512.329200"
       ]
      }
     ],
     "prompt_number": 28
    },
    {
     "cell_type": "code",
     "collapsed": false,
     "input": [
      "test_df.Fare[test_df.Fare.isnull()].size"
     ],
     "language": "python",
     "metadata": {},
     "outputs": [
      {
       "metadata": {},
       "output_type": "pyout",
       "prompt_number": 29,
       "text": [
        "1"
       ]
      }
     ],
     "prompt_number": 29
    },
    {
     "cell_type": "code",
     "collapsed": false,
     "input": [
      "test_df.Fare[test_df.Fare==0].size"
     ],
     "language": "python",
     "metadata": {},
     "outputs": [
      {
       "metadata": {},
       "output_type": "pyout",
       "prompt_number": 30,
       "text": [
        "2"
       ]
      }
     ],
     "prompt_number": 30
    },
    {
     "cell_type": "code",
     "collapsed": false,
     "input": [
      "df.Title.unique()"
     ],
     "language": "python",
     "metadata": {},
     "outputs": [
      {
       "metadata": {},
       "output_type": "pyout",
       "prompt_number": 31,
       "text": [
        "array(['Mr', 'Mrs', 'Miss', 'Master', 'Don', 'Rev', 'Dr', 'Mme', 'Ms',\n",
        "       'Major', 'Lady', 'Sir', 'Mlle', 'Col', 'Capt', 'the Countess',\n",
        "       'Jonkheer'], dtype=object)"
       ]
      }
     ],
     "prompt_number": 31
    },
    {
     "cell_type": "code",
     "collapsed": false,
     "input": [
      "import string"
     ],
     "language": "python",
     "metadata": {},
     "outputs": [],
     "prompt_number": 34
    },
    {
     "cell_type": "code",
     "collapsed": false,
     "input": [
      "len(df[df.Title=='Mr'])"
     ],
     "language": "python",
     "metadata": {},
     "outputs": [
      {
       "metadata": {},
       "output_type": "pyout",
       "prompt_number": 37,
       "text": [
        "517"
       ]
      }
     ],
     "prompt_number": 37
    },
    {
     "cell_type": "code",
     "collapsed": false,
     "input": [
      "def substrings_in_string(big_string, sub_strings):\n",
      "    for sub_string in sub_strings:\n",
      "        if not string.find(big_string, sub_string) == -1:\n",
      "            return sub_string\n",
      "    return np.nan"
     ],
     "language": "python",
     "metadata": {},
     "outputs": [],
     "prompt_number": 44
    },
    {
     "cell_type": "code",
     "collapsed": false,
     "input": [
      "title_list = ['Mrs', 'Mr', 'Master', 'Miss', 'Don', 'Rev', 'Dr', 'Mme', 'Ms', 'Major', 'Lady', 'Sir', 'Mlle', 'Col', 'Capt', 'Countess', 'Jonkheer']"
     ],
     "language": "python",
     "metadata": {},
     "outputs": [],
     "prompt_number": 58
    },
    {
     "cell_type": "code",
     "collapsed": false,
     "input": [
      "x = df.Name.map(lambda x: substrings_in_string(x, title_list))\n",
      "len(x[x=='Mr'])"
     ],
     "language": "python",
     "metadata": {},
     "outputs": [
      {
       "metadata": {},
       "output_type": "pyout",
       "prompt_number": 59,
       "text": [
        "518"
       ]
      }
     ],
     "prompt_number": 59
    },
    {
     "cell_type": "code",
     "collapsed": false,
     "input": [],
     "language": "python",
     "metadata": {},
     "outputs": []
    }
   ],
   "metadata": {}
  }
 ]
}